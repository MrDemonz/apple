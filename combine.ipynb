{
 "cells": [
  {
   "cell_type": "markdown",
   "metadata": {},
   "source": [
    "# Image Enhancement Pipeline: Zero-DCE + Real-ESRGAN + GFPGAN\n",
    "\n",
    "This notebook processes a single input image through three models:\n",
    "1. Zero-DCE for low-light enhancement\n",
    "2. Real-ESRGAN for super-resolution\n",
    "3. GFPGAN for face restoration\n",
    "\n",
    "You can upload an image, and it will be processed step-by-step, with output shown at each stage."
   ]
  },
  {
   "cell_type": "code",
   "metadata": {},
   "source": [
    "# Install dependencies\n",
    "!pip install basicsr facexlib gfpgan realesrgan -q\n",
    "!pip install -U torch torchvision --extra-index-url https://download.pytorch.org/whl/cu113 -q\n",
    "\n",
    "# Install Zero-DCE implementation (lightweight repo)\n",
    "!pip install git+https://github.com/Li-Chongyi/Zero-DCE.git -q"
   ],
   "execution_count": null,
   "outputs": []
  },
  {
   "cell_type": "code",
   "metadata": {},
   "source": [
    "# Imports\n",
    "import cv2\n",
    "import torch\n",
    "import numpy as np\n",
    "from PIL import Image\n",
    "from google.colab.patches import cv2_imshow\n",
    "import matplotlib.pyplot as plt\n",
    "\n",
    "from Zero_DCE import zero_dce  # zero dce repo import\n",
    "from realesrgan import RealESRGAN\n",
    "from gfpgan import GFPGANer\n",
    "import os\n",
    "\n",
    "# Utility functions\n",
    "def load_image_cv2(image_path):\n",
    "    img = cv2.imread(image_path)\n",
    "    img = cv2.cvtColor(img, cv2.COLOR_BGR2RGB)\n",
    "    return img\n",
    "\n",
    "def show_img(img, title=None):\n",
    "    plt.figure(figsize=(10,10))\n",
    "    plt.axis('off')\n",
    "    if title is not None:\n",
    "        plt.title(title)\n",
    "    plt.imshow(img)\n",
    "    plt.show()\n"
   ],
   "execution_count": null,
   "outputs": []
  },
  {
   "cell_type": "markdown",
   "metadata": {},
   "source": [
    "## Upload your image"
   ]
  },
  {
   "cell_type": "code",
   "metadata": {},
   "source": [
    "# Upload an input image\n",
    "from google.colab import files\n",
    "uploaded = files.upload()\n",
    "input_image_path = list(uploaded.keys())[0]\n",
    "print(f\"Uploaded file: {input_image_path}\")\n",
    "\n",
    "# Load and show input image\n",
    "img = load_image_cv2(input_image_path)\n",
    "show_img(img, 'Input Image')"
   ],
   "execution_count": null,
   "outputs": []
  },
  {
   "cell_type": "markdown",
   "metadata": {},
   "source": [
    "## Step 1: Low-Light Enhancement with Zero-DCE"
   ]
  },
  {
   "cell_type": "code",
   "metadata": {},
   "source": [
    "# Zero-DCE expects images normalized [0,1]\n",
    "img_float = img.astype(np.float32)/255.\n",
    "# Apply zero-dce enhancement\n",
    "enhanced = zero_dce.Inference(img_float)\n",
    "enhanced = np.clip(enhanced*255,0,255).astype(np.uint8)\n",
    "show_img(enhanced, 'Zero-DCE Enhanced Image')\n",
    "\n",
    "# Save enhanced image for next steps\n",
    "cv2.imwrite('enhanced.png', cv2.cvtColor(enhanced, cv2.COLOR_RGB2BGR))"
   ],
   "execution_count": null,
   "outputs": []
  },
  {
   "cell_type": "markdown",
   "metadata": {},
   "source": [
    "## Step 2: Super-Resolution with Real-ESRGAN"
   ]
  },
  {
   "cell_type": "code",
   "metadata": {},
   "source": [
    "device = 'cuda' if torch.cuda.is_available() else 'cpu'\n",
    "print(\"Using device:\", device)\n",
    "\n",
    "# Initialize Real-ESRGAN model\n",
    "model = RealESRGAN(device, scale=4)  # 4x upscaling\n",
    "model.load_weights(\"https://github.com/xinntao/Real-ESRGAN/releases/download/v0.2.0/RealESRGAN_x4plus.pth\")\n",
    "\n",
    "# Load enhanced image\n",
    "img_enhanced = Image.open('enhanced.png').convert('RGB')\n",
    "\n",
    "# Apply super resolution\n",
    "sr_img = model.predict(img_enhanced)\n",
    "\n",
    "# Convert to numpy and show\n",
    "sr_img_np = np.array(sr_img)\n",
    "show_img(sr_img_np, 'Real-ESRGAN Super Resolved Image')\n",
    "\n",
    "# Save for next step\n",
    "sr_img.save('sr.png')"
   ],
   "execution_count": null,
   "outputs": []
  },
  {
   "cell_type": "markdown",
   "metadata": {},
   "source": [
    "## Step 3: Face Restoration with GFPGAN"
   ]
  },
  {
   "cell_type": "code",
   "metadata": {},
   "source": [
    "from gfpgan import GFPGANer\n",
    "\n",
    "# Load GFPGAN model\n",
    "gfpganer = GFPGANer(\n",
    "    model_path=\"https://github.com/TencentARC/GFPGAN/releases/download/v1.3.0/GFPGANv1.3.pth\",\n",
    "    upscale=1,\n",
    "    arch='clean',\n",
    "    channel_multiplier=2,\n",
    "    bg_upsampler=None,\n",
    "    device=device\n",
    ")\n",
    "\n",
    "# Load super-resolved image\n",
    "sr_img = cv2.imread('sr.png', cv2.IMREAD_COLOR)\n",
    "\n",
    "# GFPGAN expects BGR input\n",
    "cropped_faces, restored_faces, restored_img = gfpganer.enhance(\n",
    "    sr_img,\n",
    "    has_aligned=False,\n",
    "    only_center_face=False,\n",
    "    paste_back=True\n",
    ")\n",
    "\n",
    "# Show final image\n",
    "restored_img_rgb = cv2.cvtColor(restored_img, cv2.COLOR_BGR2RGB)\n",
    "show_img(restored_img_rgb, 'Final GFPGAN Restored Image')\n",
    "\n",
    "# Save final image\n",
    "cv2.imwrite('final_restored.png', restored_img)\n",
    "print(\"Processing complete. Final image saved as final_restored.png\")"
   ],
   "execution_count": null,
   "outputs": []
  }
 ],
 "metadata": {
  "colab": {
   "name": "Image Enhancement Pipeline: Zero-DCE + Real-ESRGAN + GFPGAN.ipynb",
   "provenance": [],
   "authorship_tag": "ABX9TyPbrtrF5w2Cw4QSN+jHYRDeRM7iGw26P8UhD0u+XOhI0igN1b9xj/dxR6cBFfjmSnW0QHc4Awv6mg==",
   "include_colab_link": true
  },
  "kernelspec": {
   "name": "python3",
   "display_name": "Python 3"
  },
  "language_info": {
   "name": "python"
  }
 },
 "nbformat": 4,
 "nbformat_minor": 0
}
